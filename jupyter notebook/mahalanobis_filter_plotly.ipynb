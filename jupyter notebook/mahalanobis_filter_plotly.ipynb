{
 "cells": [
  {
   "cell_type": "markdown",
   "metadata": {},
   "source": [
    "# Mahalanobis Distance Filter with Plotly Express and Dash"
   ]
  },
  {
   "cell_type": "markdown",
   "metadata": {},
   "source": [
    "This notebook demonstrates how to use Plotly Express and Dash to create interactive visualizations for the Mahalanobis Distance Filter."
   ]
  },
  {
   "cell_type": "markdown",
   "metadata": {},
   "source": [
    "## Imports and Setup"
   ]
  },
  {
   "cell_type": "code",
   "execution_count": null,
   "metadata": {},
   "source": [
    "import pandas as pd\n",
    "import numpy as np\n",
    "from scipy.spatial.distance import mahalanobis\n",
    "from scipy.stats import chi2\n",
    "import plotly.express as px\n",
    "import plotly.graph_objects as go\n",
    "from plotly.subplots import make_subplots\n",
    "\n",
    "# Suppress warnings\n",
    "import warnings\n",
    "warnings.filterwarnings(\"ignore\")\n",
    "\n",
    "print(\"Setup Complete\")"
   ]
  },
  {
   "cell_type": "markdown",
   "metadata": {},
   "source": [
    "## Load Sample Data"
   ]
  },
  {
   "cell_type": "code",
   "execution_count": null,
   "metadata": {},
   "source": [
    "# Read csv\n",
    "csv_path = \"data/sample_data_7d.csv\"\n",
    "df_sample = pd.read_csv(csv_path)\n",
    "df_sample.head()"
   ]
  },
  {
   "cell_type": "markdown",
   "metadata": {},
   "source": [
    "## Mahalanobis Filter Class"
   ]
  },
  {
   "cell_type": "code",
   "execution_count": null,
   "metadata": {},
   "source": [
    "class MahalanobisFilter:\n",
    "    \"\"\"Detects outliers using Mahalanobis distance.\"\"\"\n",
    "\n",
    "    def __init__(self, alpha=0.05):\n",
    "        \"\"\"Initialize with significance level alpha (default 0.05)\"\"\"\n",
    "        self.alpha = alpha\n",
    "\n",
    "    def fit(self, X):\n",
    "        \"\"\"Calculate mean and inverse covariance matrix from data\"\"\"\n",
    "        # Exclude 'Pile No.' from calculations if it exists\n",
    "        self.data_columns = X.columns.difference([\"Pile No.\"])\n",
    "        self.mean = np.mean(X[self.data_columns], axis=0)\n",
    "        self.cov = np.cov(X[self.data_columns], rowvar=False)\n",
    "        self.inv_cov = np.linalg.inv(self.cov)\n",
    "\n",
    "    def mahalanobis_distance(self, x):\n",
    "        \"\"\"Calculate Mahalanobis distance for a single point\"\"\"\n",
    "        # Ensure x is aligned with self.data_columns\n",
    "        x = x[self.data_columns]\n",
    "        return mahalanobis(x, self.mean, self.inv_cov)\n",
    "\n",
    "    def filter(self, X, margin=1e-5):\n",
    "        \"\"\"\n",
    "        Filter data into inliers and outliers based on Mahalanobis distance\n",
    "        relative to a three-sigma threshold.\n",
    "        Returns (inliers, outliers) as DataFrames.\n",
    "        \"\"\"\n",
    "        # Calculate distances and three-sigma threshold\n",
    "        distances = np.array(\n",
    "            [self.mahalanobis_distance(X.iloc[i]) for i in range(len(X))]\n",
    "        )\n",
    "        threshold_distance = (\n",
    "            np.sqrt(chi2.ppf(0.997, df=len(self.data_columns))) + margin\n",
    "        )  # 3-sigma threshold with margin\n",
    "\n",
    "        # Split data\n",
    "        inlier_indices = distances <= threshold_distance\n",
    "        outlier_indices = distances > threshold_distance\n",
    "\n",
    "        return X[inlier_indices], X[outlier_indices], distances, threshold_distance"
   ]
  },
  {
   "cell_type": "markdown",
   "metadata": {},
   "source": [
    "## Data Processing Functions"
   ]
  },
  {
   "cell_type": "code",
   "execution_count": null,
   "metadata": {},
   "source": [
    "def process_data(data, sample_pairs):\n",
    "    \"\"\"Extract and pair non-null samples from raw data.\n",
    "\n",
    "    Args:\n",
    "        data: Input DataFrame containing sample data\n",
    "        sample_pairs: Tuple of column names to pair\n",
    "\n",
    "    Returns:\n",
    "        DataFrame containing only complete pairs of samples\n",
    "    \"\"\"\n",
    "    # Include 'Pile No.' if it exists\n",
    "    columns_to_select = (\n",
    "        [\"Pile No.\"] + list(sample_pairs)\n",
    "        if \"Pile No.\" in data.columns\n",
    "        else list(sample_pairs)\n",
    "    )\n",
    "\n",
    "    df = (\n",
    "        data.loc[:, columns_to_select]  # Select only the necessary columns\n",
    "        .dropna()  # Remove rows with any null values\n",
    "        .copy()  # Return a copy to avoid SettingWithCopyWarning\n",
    "    )\n",
    "    return df"
   ]
  },
  {
   "cell_type": "markdown",
   "metadata": {},
   "source": [
    "## Scatter Plot with Plotly Express"
   ]
  },
  {
   "cell_type": "code",
   "execution_count": null,
   "metadata": {},
   "source": [
    "# Process data for Sample 1 vs Sample 2\n",
    "sample_pair = ('Sample 1', 'Sample 2')\n",
    "processed_data = process_data(df_sample, sample_pair)\n",
    "\n",
    "# Apply Mahalanobis filter\n",
    "m_filter = MahalanobisFilter()\n",
    "m_filter.fit(processed_data)\n",
    "inliers, outliers, distances, threshold = m_filter.filter(processed_data)\n",
    "\n",
    "# Create a new column to identify outliers\n",
    "processed_data['outlier'] = ['Outlier' if d > threshold else 'Inlier' for d in distances]\n",
    "processed_data['mahalanobis_distance'] = distances\n",
    "\n",
    "# Create a scatter plot using Plotly Express\n",
    "fig = px.scatter(\n",
    "    processed_data, \n",
    "    x=sample_pair[0], \n",
    "    y=sample_pair[1],\n",
    "    color='outlier',\n",
    "    color_discrete_map={'Inlier': '#2196F3', 'Outlier': '#D92906'},\n",
    "    hover_data=['Pile No.', 'mahalanobis_distance'],\n",
    "    title=f\"Scatter Plot of {sample_pair[0]} vs {sample_pair[1]}\",\n",
    "    labels={\n",
    "        sample_pair[0]: f\"{sample_pair[0]} Compressive Strength (psi)\",\n",
    "        sample_pair[1]: f\"{sample_pair[1]} Compressive Strength (psi)\",\n",
    "        'mahalanobis_distance': 'Mahalanobis Distance'\n",
    "    }\n",
    ")\n",
    "\n",
    "# Customize the plot\n",
    "fig.update_traces(marker=dict(size=10, opacity=0.7))\n",
    "fig.update_layout(\n",
    "    template='plotly_white',\n",
    "    legend_title_text='Classification'\n",
    ")\n",
    "\n",
    "fig.show()"
   ]
  },
  {
   "cell_type": "markdown",
   "metadata": {},
   "source": [
    "## 3D Scatter Plot for All Three Samples"
   ]
  },
  {
   "cell_type": "code",
   "execution_count": null,
   "metadata": {},
   "source": [
    "# Process data for all three samples\n",
    "sample_columns = ['Sample 1', 'Sample 2', 'Sample 3']\n",
    "processed_data = process_data(df_sample, sample_columns)\n",
    "\n",
    "# Apply Mahalanobis filter\n",
    "m_filter = MahalanobisFilter()\n",
    "m_filter.fit(processed_data)\n",
    "inliers, outliers, distances, threshold = m_filter.filter(processed_data)\n",
    "\n",
    "# Create a new column to identify outliers\n",
    "processed_data['outlier'] = ['Outlier' if d > threshold else 'Inlier' for d in distances]\n",
    "processed_data['mahalanobis_distance'] = distances\n",
    "\n",
    "# Create a 3D scatter plot using Plotly Express\n",
    "fig = px.scatter_3d(\n",
    "    processed_data, \n",
    "    x='Sample 1', \n",
    "    y='Sample 2',\n",
    "    z='Sample 3',\n",
    "    color='outlier',\n",
    "    color_discrete_map={'Inlier': '#2196F3', 'Outlier': '#D92906'},\n",
    "    hover_data=['Pile No.', 'mahalanobis_distance'],\n",
    "    title=\"3D Scatter Plot of All Samples\",\n",
    "    labels={\n",
    "        'Sample 1': \"Sample 1 Compressive Strength (psi)\",\n",
    "        'Sample 2': \"Sample 2 Compressive Strength (psi)\",\n",
    "        'Sample 3': \"Sample 3 Compressive Strength (psi)\",\n",
    "        'mahalanobis_distance': 'Mahalanobis Distance'\n",
    "    }\n",
    ")\n",
    "\n",
    "# Customize the plot\n",
    "fig.update_traces(marker=dict(size=5, opacity=0.7))\n",
    "fig.update_layout(\n",
    "    scene=dict(\n",
    "        xaxis_title='Sample 1',\n",
    "        yaxis_title='Sample 2',\n",
    "        zaxis_title='Sample 3'\n",
    "    ),\n",
    "    legend_title_text='Classification'\n",
    ")\n",
    "\n",
    "fig.show()"
   ]
  },
  {
   "cell_type": "markdown",
   "metadata": {},
   "source": [
    "## Interactive Dashboard with Dash"
   ]
  },
  {
   "cell_type": "markdown",
   "metadata": {},
   "source": [
    "We've created a separate Dash application that provides an interactive dashboard for the Mahalanobis Distance Filter. The dashboard allows you to:\n",
    "\n",
    "1. Select different sample pairs for analysis\n",
    "2. Adjust the confidence level (sigma value) for the ellipse\n",
    "3. View statistics about the data and outliers\n",
    "4. Interact with the plots (zoom, pan, hover for details)\n",
    "\n",
    "To run the dashboard, execute the following command in your terminal:\n",
    "\n",
    "```bash\n",
    "python mahalanobis_filter_dash.py\n",
    "```\n",
    "\n",
    "Then open your web browser and navigate to: http://127.0.0.1:8050/"
   ]
  },
  {
   "cell_type": "markdown",
   "metadata": {},
   "source": [
    "## Conclusion"
   ]
  },
  {
   "cell_type": "markdown",
   "metadata": {},
   "source": [
    "In this notebook, we've demonstrated how to use Plotly Express to create interactive visualizations for the Mahalanobis Distance Filter. The Dash application provides a more comprehensive and user-friendly interface for exploring the data and detecting outliers.\n",
    "\n",
    "Key advantages of using Plotly Express and Dash:\n",
    "\n",
    "1. **Interactive Visualizations**: Users can zoom, pan, and hover over data points to see details\n",
    "2. **Real-time Updates**: The Dash app allows users to adjust parameters and see results immediately\n",
    "3. **Web-based Interface**: The dashboard can be accessed through a web browser, making it easy to share\n",
    "4. **Customizable**: Both Plotly Express and Dash offer extensive customization options\n",
    "5. **3D Visualization**: Ability to visualize all three samples simultaneously in 3D space"
   ]
  }
 ],
 "metadata": {
  "kernelspec": {
   "display_name": "Python 3",
   "language": "python",
   "name": "python3"
  },
  "language_info": {
   "codemirror_mode": {
    "name": "ipython",
    "version": 3
   },
   "file_extension": ".py",
   "mimetype": "text/x-python",
   "name": "python",
   "nbconvert_exporter": "python",
   "pygments_lexer": "ipython3",
   "version": "3.8.10"
  }
 }
}
